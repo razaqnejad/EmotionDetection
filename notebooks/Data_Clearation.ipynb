{
 "cells": [
  {
   "cell_type": "markdown",
   "metadata": {},
   "source": [
    "### Adding Libraries"
   ]
  },
  {
   "cell_type": "code",
   "execution_count": 1,
   "metadata": {},
   "outputs": [],
   "source": [
    "import pandas as pd\n",
    "import os"
   ]
  },
  {
   "cell_type": "markdown",
   "metadata": {},
   "source": [
    "### Classifying Data"
   ]
  },
  {
   "cell_type": "code",
   "execution_count": 8,
   "metadata": {},
   "outputs": [],
   "source": [
    "# load CSV file\n",
    "data = pd.read_csv('../data/dataset.csv', skiprows=1)\n",
    "\n",
    "# create destination directory\n",
    "root_save_path = '../data/train/'\n",
    "if not os.path.exists(root_save_path):\n",
    "    os.makedirs(root_save_path)\n",
    "\n",
    "# group images by lable\n",
    "grouped = data.groupby(data.columns[0])\n",
    "\n",
    "# extract and save data by in defferent directories\n",
    "for label, group in grouped:\n",
    "    label_save_path = os.path.join(root_save_path, str(label))\n",
    "    if not os.path.exists(label_save_path):\n",
    "        os.makedirs(label_save_path)\n",
    "    csv_file_path = os.path.join(label_save_path, f'label_{label}.csv')\n",
    "    group.to_csv(csv_file_path, header=False, index=False)\n"
   ]
  },
  {
   "cell_type": "markdown",
   "metadata": {},
   "source": [
    "### Make Images"
   ]
  },
  {
   "cell_type": "code",
   "execution_count": 10,
   "metadata": {},
   "outputs": [],
   "source": [
    "import math\n",
    "import numpy as np\n",
    "import base64\n",
    "from PIL import Image\n",
    "import io\n",
    "\n",
    "def load_data(filepath):\n",
    "    \"\"\"Load CSV data into a DataFrame.\"\"\"\n",
    "    return pd.read_csv(filepath)\n",
    "\n",
    "# load CSV data\n",
    "data = pd.read_csv('../data/dataset.csv', skiprows=1)\n",
    "\n",
    "save_path = '../data/image_files/'\n",
    "if not os.path.exists(save_path):\n",
    "    os.makedirs(save_path)\n",
    "\n",
    "# read dataset.csv data {lable, pixcels}\n",
    "for index, row in data.iterrows():\n",
    "    label = row.iloc[0]\n",
    "    pixels = row.iloc[1].split(' ')\n",
    "    pixels = list(map(int, pixels))\n",
    "    \n",
    "    # calculate image real sizes\n",
    "    image_size = int(math.sqrt(len(pixels)))\n",
    "    image_array = np.array(pixels, dtype=np.uint8).reshape((image_size, image_size))\n",
    "    \n",
    "    # creat image and save\n",
    "    image = Image.fromarray(image_array)\n",
    "    image.save(os.path.join(save_path, f'label_{label}_index_{index}.png'))"
   ]
  },
  {
   "cell_type": "markdown",
   "metadata": {},
   "source": [
    "### Detecting Faces"
   ]
  },
  {
   "cell_type": "code",
   "execution_count": null,
   "metadata": {},
   "outputs": [],
   "source": [
    "import cv2\n",
    "\n",
    "# مسیر پوشه‌ای که تصاویر در آن ذخیره شده‌اند\n",
    "image_folder_path = 'path_to_your_images/'\n",
    "\n",
    "# بارگذاری مدل پیش‌آموزش دیده برای تشخیص چهره\n",
    "face_cascade = cv2.CascadeClassifier(cv2.data.haarcascades + 'haarcascade_frontalface_default.xml')\n",
    "\n",
    "# تابعی برای تشخیص وضوح چهره در تصویر\n",
    "def detect_face_and_clarity(image_path):\n",
    "    image = cv2.imread(image_path)\n",
    "    gray_image = cv2.cvtColor(image, cv2.COLOR_BGR2GRAY)\n",
    "    \n",
    "    # تشخیص چهره‌ها\n",
    "    faces = face_cascade.detectMultiScale(gray_image, 1.1, 4)\n",
    "    \n",
    "    if len(faces) == 0:\n",
    "        return 0  # اگر چهره‌ای تشخیص داده نشد، وضوح را 0 درصد در نظر می‌گیریم\n",
    "    \n",
    "    # محاسبه مساحت کل تصویر\n",
    "    total_area = image.shape[0] * image.shape[1]\n",
    "    \n",
    "    # محاسبه مساحت کل چهره‌های تشخیص داده شده\n",
    "    face_area = sum((x2 - x) * (y2 - y) for x, y, x2, y2 in faces)\n",
    "    \n",
    "    # محاسبه درصد وضوح چهره بر اساس نسبت مساحت چهره به کل تصویر\n",
    "    clarity_percentage = (face_area / total_area) * 100\n",
    "    \n",
    "    return clarity_percentage\n",
    "\n",
    "# برای هر تصویر در پوشه، تشخیص وضوح چهره را انجام دهید و یک دیکشنری بسازید\n",
    "clarity_dict = {}\n",
    "for image_name in os.listdir(image_folder_path):\n",
    "    image_path = os.path.join(image_folder_path, image_name)\n",
    "    clarity_percentage = detect_face_and_clarity(image_path)\n",
    "    clarity_dict[image_name] = clarity_percentage\n",
    "\n",
    "# نمایش دیکشنری وضوح چهره\n",
    "for image_name, clarity in clarity_dict.items():\n",
    "    print(f\"Image: {image_name}, Clarity: {clarity:.2f}%\")\n"
   ]
  }
 ],
 "metadata": {
  "kernelspec": {
   "display_name": "Python 3",
   "language": "python",
   "name": "python3"
  },
  "language_info": {
   "codemirror_mode": {
    "name": "ipython",
    "version": 3
   },
   "file_extension": ".py",
   "mimetype": "text/x-python",
   "name": "python",
   "nbconvert_exporter": "python",
   "pygments_lexer": "ipython3",
   "version": "3.9.4"
  }
 },
 "nbformat": 4,
 "nbformat_minor": 2
}
