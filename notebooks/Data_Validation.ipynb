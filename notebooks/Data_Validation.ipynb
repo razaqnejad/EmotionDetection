{
 "cells": [
  {
   "cell_type": "markdown",
   "metadata": {},
   "source": [
    "# Emotion Detection With Machine Learning - Data Validation\n",
    "##### Algorithmic Graph Theory by Dr. Sheikhi 4022\n",
    "###### Fatemeh Razaqnejad 9822123 - Baran Babaei 9931893 - Alireza DolatAbadi 9821853"
   ]
  },
  {
   "cell_type": "markdown",
   "metadata": {},
   "source": [
    "Download Dataset: https://drive.google.com/file/d/1tedoFTFFBbM2iUvdg37WQFSq07ghYrll/view?usp=drive_link"
   ]
  },
  {
   "cell_type": "markdown",
   "metadata": {},
   "source": [
    "### Steps to follow\n",
    "1. Grouping .csv datas by emotion labels\n",
    "2. Generating images from pixel values\n",
    "3. Clarifying dataset by detecting faces and removing noises\n",
    "4. Resizing images to the same dimentions\n",
    "5. Analysis dataset\n",
    "6. Plot analyses\n",
    "7. Split dataset to Test and Train"
   ]
  },
  {
   "cell_type": "markdown",
   "metadata": {},
   "source": [
    "### Add Libraries"
   ]
  },
  {
   "cell_type": "code",
   "execution_count": 4,
   "metadata": {},
   "outputs": [],
   "source": [
    "import pandas as pd\n",
    "import os\n",
    "import math\n",
    "import numpy as np\n",
    "import base64\n",
    "from PIL import Image\n",
    "import io\n",
    "import cv2\n",
    "import matplotlib.pyplot as plt\n",
    "import shutil\n",
    "from sklearn.model_selection import train_test_split\n"
   ]
  },
  {
   "cell_type": "markdown",
   "metadata": {},
   "source": [
    "##### Project Map"
   ]
  },
  {
   "cell_type": "code",
   "execution_count": 68,
   "metadata": {},
   "outputs": [
    {
     "data": {
      "text/html": [
       "<img src=\"../screenshots/repoMap.png\"/>"
      ],
      "text/plain": [
       "<IPython.core.display.Image object>"
      ]
     },
     "execution_count": 68,
     "metadata": {},
     "output_type": "execute_result"
    }
   ],
   "source": [
    "from IPython.display import Image; Image(url=\"../screenshots/repoMap.png\") "
   ]
  },
  {
   "cell_type": "markdown",
   "metadata": {},
   "source": [
    "### Group Data"
   ]
  },
  {
   "cell_type": "markdown",
   "metadata": {},
   "source": [
    "to group datas we first read the csv data and the group them by the first charachter of each row and save to labeled folders"
   ]
  },
  {
   "cell_type": "code",
   "execution_count": null,
   "metadata": {},
   "outputs": [],
   "source": [
    "# load CSV file\n",
    "data = pd.read_csv('../data/dataset.csv', skiprows=1)\n",
    "\n",
    "# create destination directory\n",
    "root_save_path = '../data/dataset/'\n",
    "if not os.path.exists(root_save_path):\n",
    "    os.makedirs(root_save_path)\n",
    "\n",
    "# group images by lable\n",
    "grouped = data.groupby(data.columns[0])\n",
    "\n",
    "# extract and save data by in defferent directories\n",
    "for label, group in grouped:\n",
    "    label_save_path = os.path.join(root_save_path, str(label))\n",
    "    if not os.path.exists(label_save_path):\n",
    "        os.makedirs(label_save_path)\n",
    "    csv_file_path = os.path.join(label_save_path, f'label_{label}.csv')\n",
    "    group.to_csv(csv_file_path, header=False, index=False)\n"
   ]
  },
  {
   "cell_type": "markdown",
   "metadata": {},
   "source": [
    "#### output screenshot"
   ]
  },
  {
   "cell_type": "code",
   "execution_count": 62,
   "metadata": {},
   "outputs": [
    {
     "data": {
      "text/html": [
       "<img src=\"../screenshots/groupData.png\"/>"
      ],
      "text/plain": [
       "<IPython.core.display.Image object>"
      ]
     },
     "execution_count": 62,
     "metadata": {},
     "output_type": "execute_result"
    }
   ],
   "source": [
    "from IPython.display import Image; Image(url=\"../screenshots/groupData.png\") "
   ]
  },
  {
   "cell_type": "markdown",
   "metadata": {},
   "source": [
    "### Generate Images"
   ]
  },
  {
   "cell_type": "markdown",
   "metadata": {},
   "source": [
    "to generate images under their labels, we read the series of pixels into a list, then make a matrix with the size of list length square root using numPy and at the end we generate images and save them using image.save in *data/dataset/0/image_files* path"
   ]
  },
  {
   "cell_type": "code",
   "execution_count": 34,
   "metadata": {},
   "outputs": [],
   "source": [
    "def load_data(filepath):\n",
    "    \"\"\"Load CSV data into a DataFrame.\"\"\"\n",
    "    return pd.read_csv(filepath)\n",
    "\n",
    "for label in range(7):\n",
    "    # load CSV data\n",
    "    data = pd.read_csv(f'../data/dataset/{label}/label_{label}.csv', skiprows=1)\n",
    "\n",
    "    save_path = f'../data/dataset/{label}/image_files'\n",
    "    if not os.path.exists(save_path):\n",
    "        os.makedirs(save_path)\n",
    "\n",
    "    # read dataset.csv data {lable, pixcels}\n",
    "    for index, row in data.iterrows():\n",
    "        pixels = row.iloc[1].split(' ')\n",
    "        pixels = list(map(int, pixels))\n",
    "        \n",
    "        # calculate image real sizes\n",
    "        image_size = int(math.sqrt(len(pixels)))\n",
    "        image_array = np.array(pixels, dtype=np.uint8).reshape((image_size, image_size))\n",
    "        \n",
    "        # creat image and save\n",
    "        image = Image.fromarray(image_array)\n",
    "        image.save(os.path.join(save_path, f'label_{label}_index_{index}.png'))"
   ]
  },
  {
   "cell_type": "markdown",
   "metadata": {},
   "source": [
    "#### output screenshot"
   ]
  },
  {
   "cell_type": "code",
   "execution_count": 1,
   "metadata": {},
   "outputs": [
    {
     "data": {
      "text/html": [
       "<img src=\"../screenshots/generateImages.png\"/>"
      ],
      "text/plain": [
       "<IPython.core.display.Image object>"
      ]
     },
     "execution_count": 1,
     "metadata": {},
     "output_type": "execute_result"
    }
   ],
   "source": [
    "from IPython.display import Image; Image(url=\"../screenshots/generateImages.png\") "
   ]
  },
  {
   "cell_type": "markdown",
   "metadata": {},
   "source": [
    "### Clarify Dataset"
   ]
  },
  {
   "cell_type": "markdown",
   "metadata": {},
   "source": [
    "this part is a bit tricky, to clarify images we need to follow these steps:\n",
    "1. loading face detection model\n",
    "2. gray scale images\n",
    "3. detecting faces on each image\n",
    "4. if there was any faces, calculate the area of detected face and total image\n",
    "5. calculating percentage of face on the image\n",
    "6. crop the image and keep only the faces\n",
    "7. add the clarity percentage to the file names and save to the *data/dataset/0/validated_images*\n",
    "8. if there was no face, we take the image as *noise8 and increse the nois numbers"
   ]
  },
  {
   "cell_type": "code",
   "execution_count": null,
   "metadata": {},
   "outputs": [],
   "source": [
    "def calculate_clarity(image_path, save_path, face_cascade):\n",
    "    image = cv2.imread(image_path, cv2.IMREAD_GRAYSCALE)  # Convert to grayscale for face detection\n",
    "\n",
    "    # Detect faces in the image\n",
    "    faces = face_cascade.detectMultiScale(image, scaleFactor=1.1, minNeighbors=0)\n",
    "\n",
    "    if len(faces) > 0:\n",
    "        # Assuming only one face is detected (but we can modify this for multiple faces)\n",
    "        x, y, w, h = faces[0]\n",
    "\n",
    "        # Calculate face area and total image area\n",
    "        face_area = w * h\n",
    "        total_image_area = image.shape[0] * image.shape[1]\n",
    "\n",
    "        # Calculate noise percentage\n",
    "        clarity_percentage = (face_area / total_image_area) * 100\n",
    "\n",
    "        # Crop the image to keep only the detected face region\n",
    "        face_image = image[y:y+h, x:x+w]\n",
    "\n",
    "        # Add clarity percentage to the image file name\n",
    "        new_filename = f\"{filename.split('.')[0]}_{clarity_percentage:.2f}.png\"\n",
    "        new_image_path = os.path.join(save_path, new_filename)\n",
    "        cv2.imwrite(new_image_path, face_image)  # Save the cropped face image\n",
    "        os.remove(image_path)  # Remove the original image\n",
    "\n",
    "        #print(f\"Renamed and cropped: {filename} -> {new_filename}\")\n",
    "        return 0\n",
    "    else:\n",
    "        #print(f\"No face detected in {filename}\")\n",
    "        return 1\n",
    "\n",
    "# Load the face detection model (OpenCV's Haarcascades or a deep learning-based model)\n",
    "face_cascade = cv2.CascadeClassifier(cv2.data.haarcascades + 'haarcascade_frontalface_default.xml')\n",
    "noise_number=[]\n",
    "# Assuming you have already loaded the images\n",
    "for label in range(7):\n",
    "    noise_number.append(0)\n",
    "    image_folder = f'../data/dataset/{label}/image_files'\n",
    "    save_path = f'../data/dataset/{label}/validated_images'\n",
    "    if not os.path.exists(save_path):\n",
    "        os.makedirs(save_path)\n",
    "    for filename in os.listdir(image_folder):\n",
    "        if filename.endswith(\".png\"):\n",
    "            image_path = os.path.join(image_folder, filename)\n",
    "            noise_number[label]+=calculate_clarity(image_path, save_path, face_cascade)\n",
    "    print(f'{noise_number[label]} detected for group {label}')\n",
    "print(\"Clarity sets for the datas succesfully\")"
   ]
  },
  {
   "cell_type": "markdown",
   "metadata": {},
   "source": [
    "#### output screenshot"
   ]
  },
  {
   "cell_type": "code",
   "execution_count": 63,
   "metadata": {},
   "outputs": [
    {
     "data": {
      "text/html": [
       "<img src=\"../screenshots/noiseDetection.png\"/>"
      ],
      "text/plain": [
       "<IPython.core.display.Image object>"
      ]
     },
     "execution_count": 63,
     "metadata": {},
     "output_type": "execute_result"
    }
   ],
   "source": [
    "from IPython.display import Image; Image(url=\"../screenshots/noiseDetection.png\") "
   ]
  },
  {
   "cell_type": "markdown",
   "metadata": {},
   "source": [
    "### Resize Images"
   ]
  },
  {
   "cell_type": "markdown",
   "metadata": {},
   "source": [
    "as some images had croped in the privious step, we need to resize all the dataset to the same image size and we do it using cv2.resize and replace the original images"
   ]
  },
  {
   "cell_type": "code",
   "execution_count": 36,
   "metadata": {},
   "outputs": [
    {
     "name": "stdout",
     "output_type": "stream",
     "text": [
      "Images have been succesfully resized and saved to the new path.\n"
     ]
    }
   ],
   "source": [
    "# Define a function to resize images to 128x128\n",
    "def resize_images_in_place(folder_path, size=(128, 128)):\n",
    "    for image_name in os.listdir(folder_path):\n",
    "        image_path = os.path.join(folder_path, image_name)\n",
    "        \n",
    "        # Read images ans resize\n",
    "        image = cv2.imread(image_path)\n",
    "        resized_image = cv2.resize(image, size, interpolation=cv2.INTER_AREA)\n",
    "        \n",
    "        # Replace original images with the resized ones\n",
    "        cv2.imwrite(image_path, resized_image)\n",
    "\n",
    "for label in range(7):\n",
    "    # Define the source and destination image folder paths\n",
    "    folder_path = f'../data/dataset/{label}/validated_images'\n",
    "    resize_images_in_place(folder_path)\n",
    "\n",
    "# Print a success message\n",
    "print(\"Images have been succesfully resized and saved to the new path.\")"
   ]
  },
  {
   "cell_type": "markdown",
   "metadata": {},
   "source": [
    "### Analyze Dataset"
   ]
  },
  {
   "cell_type": "markdown",
   "metadata": {},
   "source": [
    "first we initialize a dictionary to keep analysed datas. then we just have to walk trouhj all the folders and count datas. noticeably we've already calculated noise per class on the clarification step."
   ]
  },
  {
   "cell_type": "code",
   "execution_count": 44,
   "metadata": {},
   "outputs": [
    {
     "name": "stdout",
     "output_type": "stream",
     "text": [
      "Total number of images: 23620\n",
      "Number of images in class 0: 3211\n",
      "Noise images in class 0: 54.16\n",
      "Number of images in class 1: 348\n",
      "Noise images in class 1: 56.61\n",
      "Number of images in class 2: 3090\n",
      "Noise images in class 2: 65.66\n",
      "Number of images in class 3: 6330\n",
      "Noise images in class 3: 41.97\n",
      "Number of images in class 4: 3215\n",
      "Noise images in class 4: 88.96\n",
      "Number of images in class 5: 2863\n",
      "Noise images in class 5: 39.71\n",
      "Number of images in class 6: 4563\n",
      "Noise images in class 6: 35.79\n",
      "Distribution of classes:\n",
      "Class 0: 13.59%\n",
      "Class 1: 1.47%\n",
      "Class 2: 13.08%\n",
      "Class 3: 26.80%\n",
      "Class 4: 13.61%\n",
      "Class 5: 12.12%\n",
      "Class 6: 19.32%\n"
     ]
    }
   ],
   "source": [
    "# Define the base path for the dataset\n",
    "base_path = '../data/dataset'\n",
    "\n",
    "# Initialize statistics dictionary\n",
    "statistics = {\n",
    "    'total_images': 0,\n",
    "    'images_per_class': {},\n",
    "    'noise_per_class': {}\n",
    "}\n",
    "\n",
    "# Gather statistics\n",
    "for class_folder in os.listdir(base_path):\n",
    "    class_path = os.path.join(base_path, class_folder)\n",
    "    validated_images_path = os.path.join(class_path, 'validated_images')\n",
    "    \n",
    "    # Skip if not a directory\n",
    "    if not os.path.isdir(validated_images_path):\n",
    "        continue\n",
    "    \n",
    "    # Initialize class statistics\n",
    "    statistics['images_per_class'][class_folder] = 0\n",
    "    \n",
    "    # Iterate over images in each class\n",
    "    for image_name in os.listdir(validated_images_path):\n",
    "        image_path = os.path.join(validated_images_path, image_name)\n",
    "        \n",
    "        # Update total images count\n",
    "        statistics['total_images'] += 1\n",
    "        \n",
    "        # Update images per class count\n",
    "        statistics['images_per_class'][class_folder] += 1\n",
    "        \n",
    "    statistics['noise_per_class'][class_folder] = noise_number[int(class_folder)] / statistics['images_per_class'][class_folder] * 100\n",
    "\n",
    "\n",
    "# Print the gathered statistics\n",
    "print(f\"Total number of images: {statistics['total_images']}\")\n",
    "for class_folder, count in statistics['images_per_class'].items():\n",
    "    print(f\"Number of images in class {class_folder}: {count}\")\n",
    "    print(f\"Noise images in class {class_folder}: {statistics['noise_per_class'][class_folder]:.2f}\")\n",
    "\n",
    "# Print the distribution of classes\n",
    "print(\"Distribution of classes:\")\n",
    "for class_folder, count in statistics['images_per_class'].items():\n",
    "    distribution = (count / statistics['total_images']) * 100\n",
    "    print(f\"Class {class_folder}: {distribution:.2f}%\")"
   ]
  },
  {
   "cell_type": "markdown",
   "metadata": {},
   "source": [
    "#### output screenshot"
   ]
  },
  {
   "cell_type": "code",
   "execution_count": 64,
   "metadata": {},
   "outputs": [
    {
     "data": {
      "text/html": [
       "<img src=\"../screenshots/analysis.png\"/>"
      ],
      "text/plain": [
       "<IPython.core.display.Image object>"
      ]
     },
     "execution_count": 64,
     "metadata": {},
     "output_type": "execute_result"
    }
   ],
   "source": [
    "from IPython.display import Image; Image(url=\"../screenshots/analysis.png\") "
   ]
  },
  {
   "cell_type": "markdown",
   "metadata": {},
   "source": [
    "### Plot Analyses"
   ]
  },
  {
   "cell_type": "markdown",
   "metadata": {},
   "source": [
    "now we first initialize a dictionary for emotion labels, and the plot the values we calculated in the analysing step."
   ]
  },
  {
   "cell_type": "code",
   "execution_count": 48,
   "metadata": {},
   "outputs": [
    {
     "data": {
      "image/png": "[encoded data removed]",
      "text/plain": [
       "<Figure size 1800x600 with 3 Axes>"
      ]
     },
     "metadata": {},
     "output_type": "display_data"
    }
   ],
   "source": [
    "# Data for plotting\n",
    "class_names = list(statistics['images_per_class'].keys())\n",
    "image_counts = list(statistics['images_per_class'].values())\n",
    "noise_percentage = list(statistics['noise_per_class'].values())\n",
    "\n",
    "# Create a dictionary to map class numbers to class names\n",
    "class_mapping = {\n",
    "    '0': 'Angry',\n",
    "    '1': 'Disgust',\n",
    "    '2': 'Fear',\n",
    "    '3': 'Happy',\n",
    "    '4': 'Sad',\n",
    "    '5': 'Surprise',\n",
    "    '6': 'Neutral'\n",
    "}\n",
    "\n",
    "# Replace numeric class labels with class names\n",
    "class_names_display = [class_mapping[class_name] for class_name in class_names]\n",
    "\n",
    "# Create subplots\n",
    "fig, axs = plt.subplots(1, 3, figsize=(18, 6))\n",
    "\n",
    "# Bar plot: Number of images per class\n",
    "axs[0].bar(class_names_display, image_counts)\n",
    "axs[0].set_title('Number of Images per Class')\n",
    "axs[0].set_xlabel('Emotion Class')\n",
    "axs[0].set_ylabel('Number of Images')\n",
    "\n",
    "# Scatter plot: noise vs. Emotion Class\n",
    "axs[1].scatter(noise_percentage, class_names_display, color='b', marker='o', label='Images')\n",
    "axs[1].set_xlabel('Noise Percentage')\n",
    "axs[1].set_ylabel('Emotion Class')\n",
    "axs[1].set_title('noise vs. Emotion Class')\n",
    "axs[1].grid(True)\n",
    "axs[1].legend()\n",
    "\n",
    "# The rest of the code remains unchanged.\n",
    "\n",
    "\n",
    "# Pie chart: Class distribution\n",
    "axs[2].pie(image_counts, labels=class_names_display, autopct='%1.1f%%', startangle=90)\n",
    "axs[2].set_title('Class Distribution')\n",
    "\n",
    "# Adjust layout\n",
    "plt.tight_layout()\n",
    "\n",
    "# Show the plots\n",
    "plt.show()"
   ]
  },
  {
   "cell_type": "markdown",
   "metadata": {},
   "source": [
    "* as you can see we have the **biggest** dataset with 6330 images for emotion **Happy** and the **smallest** dataset with 348 images for emotion **Disgust**\n",
    "* also we have the **most** noises for emotion **Sad** with the value of 88.96 and the **least** noises for emotion **Neutreal**"
   ]
  },
  {
   "cell_type": "markdown",
   "metadata": {},
   "source": [
    "#### output screenshot"
   ]
  },
  {
   "cell_type": "code",
   "execution_count": 65,
   "metadata": {},
   "outputs": [
    {
     "data": {
      "text/html": [
       "<img src=\"../screenshots/plots.png\"/>"
      ],
      "text/plain": [
       "<IPython.core.display.Image object>"
      ]
     },
     "execution_count": 65,
     "metadata": {},
     "output_type": "execute_result"
    }
   ],
   "source": [
    "from IPython.display import Image; Image(url=\"../screenshots/plots.png\") "
   ]
  },
  {
   "cell_type": "markdown",
   "metadata": {},
   "source": [
    "### Split Test And Train"
   ]
  },
  {
   "cell_type": "markdown",
   "metadata": {},
   "source": [
    "at the end, to split dataset into train and test, we use sklearn library following these steps:\n",
    "1. listing all the pathes and labels to walk randomly through them\n",
    "2. split %20 of data to test and %80 of data to train lists\n",
    "3. copy the images into *data/test* and *data/train*"
   ]
  },
  {
   "cell_type": "code",
   "execution_count": 49,
   "metadata": {},
   "outputs": [
    {
     "name": "stdout",
     "output_type": "stream",
     "text": [
      "Images have been successfully split into training and testing subsets and saved in the corresponding directories.\n"
     ]
    }
   ],
   "source": [
    "# Define the base path for the dataset\n",
    "base_path = '../data'\n",
    "\n",
    "# Lists to store file paths and labels\n",
    "file_paths = []\n",
    "labels = []\n",
    "\n",
    "# Collect file paths and labels\n",
    "for label in range(7):\n",
    "    class_path = os.path.join(base_path, 'dataset', str(label), 'validated_images')\n",
    "    for image_name in os.listdir(class_path):\n",
    "        file_paths.append(os.path.join(class_path, image_name))\n",
    "        labels.append(label)\n",
    "\n",
    "# Convert lists to arrays\n",
    "X = np.array(file_paths)\n",
    "y = np.array(labels)\n",
    "\n",
    "# Split the data into training and testing subsets\n",
    "X_train, X_test, y_train, y_test = train_test_split(X, y, test_size=0.2, random_state=42)\n",
    "\n",
    "# Define directories for saving training and testing images\n",
    "train_dir = os.path.join(base_path, 'train')\n",
    "test_dir = os.path.join(base_path, 'test')\n",
    "\n",
    "# Create directories if they don't exist\n",
    "if not os.path.exists(train_dir):\n",
    "    os.makedirs(train_dir)\n",
    "if not os.path.exists(test_dir):\n",
    "    os.makedirs(test_dir)\n",
    "\n",
    "# Function to copy files to the new directories\n",
    "def copy_files(file_paths, labels, destination_dir):\n",
    "    for i, file_path in enumerate(file_paths):\n",
    "        # Create subdirectories for each label if they don't exist\n",
    "        label_dir = os.path.join(destination_dir, str(labels[i]))\n",
    "        if not os.path.exists(label_dir):\n",
    "            os.makedirs(label_dir)\n",
    "        \n",
    "        # Copy the file to the new directory\n",
    "        shutil.copy(file_path, label_dir)\n",
    "        #print(f\"File {os.path.basename(file_path)} copied to {label_dir}.\")\n",
    "\n",
    "# Copy training and testing images to the respective directories\n",
    "copy_files(X_train, y_train, train_dir)\n",
    "copy_files(X_test, y_test, test_dir)\n",
    "\n",
    "# Print a success message\n",
    "print(\"Images have been successfully split into training and testing subsets and saved in the corresponding directories.\")\n"
   ]
  },
  {
   "cell_type": "markdown",
   "metadata": {},
   "source": [
    "#### output screenshot"
   ]
  },
  {
   "cell_type": "code",
   "execution_count": 67,
   "metadata": {},
   "outputs": [
    {
     "data": {
      "text/html": [
       "<img src=\"../screenshots/split.png\"/>"
      ],
      "text/plain": [
       "<IPython.core.display.Image object>"
      ]
     },
     "execution_count": 67,
     "metadata": {},
     "output_type": "execute_result"
    }
   ],
   "source": [
    "from IPython.display import Image; Image(url=\"../screenshots/split.png\") "
   ]
  },
  {
   "cell_type": "markdown",
   "metadata": {},
   "source": [
    "## Conclusion Of ML/DL Papers"
   ]
  },
  {
   "cell_type": "markdown",
   "metadata": {},
   "source": [
    "#### **Conventional Machine Learning Methods in FER**\n",
    "\n",
    "**Machine Learning in Facial Emotion Recognition:**\n",
    "- Conventional ML methods involve explicit feature extraction followed by classification.\n",
    "- These methods are often simpler and more interpretable compared to deep learning models.\n",
    "\n",
    "**Key Techniques:**\n",
    "- **Principal Component Analysis (PCA)**: Used for dimensionality reduction to enhance computational efficiency by simplifying the data without losing significant information.\n",
    "- **Support Vector Machines (SVM)**: Effective for classification tasks, works well on smaller, cleaner datasets and can efficiently model complex emotional boundaries.\n",
    "- **Random Forest and Decision Trees**: Robust to overfitting and provide good accuracy by combining the decisions of multiple trees.\n",
    "\n",
    "**Strengths and Limitations:**\n",
    "- **Strengths**: Easier to implement, require less computational resources, and offer good interpretability.\n",
    "- **Limitations**: Limited by the need for hand-engineered features and may not perform well on very large or complex datasets.\n",
    "\n",
    "#### **Conventional Deep Learning Methods in FER**\n",
    "\n",
    "**Deep Learning in Facial Emotion Recognition:**\n",
    "- Deep learning automates feature extraction and can learn high-level abstractions, suitable for complex facial expression analysis.\n",
    "\n",
    "**Advanced Techniques:**\n",
    "- **Convolutional Neural Networks (CNNs)**: Specializes in picking up spatial hierarchies in image data using trainable filters and pooling layers, ideal for capturing subtle facial cues.\n",
    "- **Recurrent Neural Networks (RNNs)**: Useful for dynamic expression recognition where temporal dependencies exist.\n",
    "\n",
    "**Performance and Applications:**\n",
    "- **Accuracy**: Generally, DL models outperform ML models in terms of accuracy on larger and more diverse datasets.\n",
    "- **Real-Time Capability**: Increasingly used in real-time FER systems in security and interactive entertainment due to their ability to operate on raw data.\n",
    "\n",
    "#### **Comparative Analysis of ML and DL Methods**\n",
    "\n",
    "**Performance Comparison:**\n",
    "- Discuss specific case studies or findings from the reviewed papers that compare ML and DL, highlighting instances where one significantly outperforms the other.\n",
    "- General trends include DL models' superior performance in complex scenarios involving unstructured data.\n",
    "\n",
    "**Hybrid Approaches:**\n",
    "- Concept of combining ML and DL models to leverage strengths of both: ML for speed and simplicity, DL for robustness and higher accuracy.\n",
    "- Examples include using ML techniques for initial coarse filtering followed by DL for fine-grained analysis.\n",
    "\n",
    "**Choosing Between ML and DL:**\n",
    "- Decision factors include dataset size and quality, need for real-time processing, computational resources, and specific application requirements.\n",
    "- Choice often depends on the trade-off between accuracy and computational efficiency, as well as availability of training data and labels.\n"
   ]
  }
 ],
 "metadata": {
  "kernelspec": {
   "display_name": "Python 3",
   "language": "python",
   "name": "python3"
  },
  "language_info": {
   "codemirror_mode": {
    "name": "ipython",
    "version": 3
   },
   "file_extension": ".py",
   "mimetype": "text/x-python",
   "name": "python",
   "nbconvert_exporter": "python",
   "pygments_lexer": "ipython3",
   "version": "3.9.4"
  }
 },
 "nbformat": 4,
 "nbformat_minor": 2
}
